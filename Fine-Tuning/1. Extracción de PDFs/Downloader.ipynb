{
 "cells": [
  {
   "cell_type": "code",
   "execution_count": null,
   "id": "f894e07c-001c-49f1-bba9-7611f0a46af7",
   "metadata": {},
   "outputs": [],
   "source": [
    "# Script para la descarga de PDFs con la API de arXiv.org\n",
    "# Versión 1.0"
   ]
  },
  {
   "cell_type": "code",
   "execution_count": 5,
   "id": "bd1d395d-7a4c-49c8-91c2-68c4ca8b2c80",
   "metadata": {},
   "outputs": [],
   "source": [
    "# Se importan las librerias necesarias y se determinan los parámetros de busqueda\n",
    "# (términos y número máximo de resutlados, URL de la API donde se realiza la busqueda)\n",
    "# Nota: La API es compatible con términos como \"AND\", \"OR\", \"AND NOT\", y paréntesis de jerarquías\n",
    "\n",
    "import os\n",
    "import requests\n",
    "import xml.etree.ElementTree as ET\n",
    "\n",
    "search_term = \"(digitalisation OR digitalization) AND (maritime)\"\n",
    "max_results = 250  # Number of results to retrieve\n",
    "\n",
    "base_url = \"http://export.arxiv.org/api/query?search_query=all:{}&start=0&max_results={}\".format(search_term, max_results)\n",
    "response = requests.get(base_url)\n"
   ]
  },
  {
   "cell_type": "code",
   "execution_count": null,
   "id": "cc00cc66-a0a6-4c37-98c3-d11ebed45f83",
   "metadata": {},
   "outputs": [],
   "source": [
    "# Se define la función con la que se extraen los URL de los PDFs de la \n",
    "# respuesta de la API de busqueda\n",
    "\n",
    "def get_pdf_urls(response_content):\n",
    "    root = ET.fromstring(response_content)\n",
    "    pdf_urls = []\n",
    "    for entry in root.findall(\"{http://www.w3.org/2005/Atom}entry\"):\n",
    "        pdf_url = entry.find(\"{http://www.w3.org/2005/Atom}link[@title='pdf']\").attrib['href']\n",
    "        pdf_urls.append(pdf_url)\n",
    "    return pdf_urls\n",
    "\n",
    "pdf_urls = get_pdf_urls(response.content)\n"
   ]
  },
  {
   "cell_type": "code",
   "execution_count": null,
   "id": "a9069cf1-324d-44ac-bc90-3e278616622a",
   "metadata": {},
   "outputs": [],
   "source": [
    "# Se imprime el número de URLs que se han encontrado, útil para comprobar que el número\n",
    "# es similar al que se encuentra con la búsqueda manual en la web de arXiv\n",
    "\n",
    "print(len(pdf_urls))"
   ]
  },
  {
   "cell_type": "code",
   "execution_count": 112,
   "id": "071242a9-a928-433c-8028-7111d45c2107",
   "metadata": {},
   "outputs": [
    {
     "name": "stdout",
     "output_type": "stream",
     "text": [
      "1 Downloaded 2201.06947v2.pdf\n",
      "2 Downloaded 2111.05605v1.pdf\n",
      "3 Downloaded 2204.04085v2.pdf\n",
      "4 Downloaded 2401.04032v2.pdf\n",
      "5 Downloaded 2301.09574v1.pdf\n",
      "6 Downloaded 1911.10498v1.pdf\n",
      "7 Downloaded 2101.08812v1.pdf\n",
      "8 Downloaded 2407.08406v1.pdf\n",
      "9 Downloaded 2111.06116v1.pdf\n",
      "10 Downloaded 2307.06688v1.pdf\n",
      "11 Downloaded 2209.01952v1.pdf\n",
      "12 Downloaded 2302.02635v2.pdf\n",
      "13 Downloaded 0911.1759v1.pdf\n",
      "14 Downloaded 1911.03240v1.pdf\n",
      "15 Downloaded 2111.13436v2.pdf\n",
      "16 Downloaded 2208.14842v1.pdf\n",
      "17 Downloaded 2301.07676v1.pdf\n",
      "18 Downloaded 2105.13733v1.pdf\n",
      "19 Downloaded 1812.00989v1.pdf\n",
      "20 Downloaded 2212.04132v1.pdf\n",
      "21 Downloaded 2310.12880v2.pdf\n"
     ]
    }
   ],
   "source": [
    "# Se descargan los PDFs en la carpeta dada en el parámetro download_dir\n",
    "\n",
    "def download_pdfs(pdf_urls, download_dir=\"arxiv_pdfs4\"):\n",
    "    if not os.path.exists(download_dir):\n",
    "        os.makedirs(download_dir)\n",
    "    i=1\n",
    "    for url in pdf_urls:\n",
    "        filename = url.split('/')[-1] + \".pdf\"\n",
    "        filepath = os.path.join(download_dir, filename)\n",
    "        response = requests.get(url)\n",
    "        with open(filepath, 'wb') as f:\n",
    "            f.write(response.content)\n",
    "        print(f\"{i} Downloaded {filename}\")\n",
    "        i=i+1\n",
    "\n",
    "download_pdfs(pdf_urls)"
   ]
  },
  {
   "cell_type": "code",
   "execution_count": null,
   "id": "4246dd8b-3f94-449f-83cb-63e22b4c435b",
   "metadata": {},
   "outputs": [],
   "source": []
  }
 ],
 "metadata": {
  "kernelspec": {
   "display_name": "Python 3 (ipykernel)",
   "language": "python",
   "name": "python3"
  },
  "language_info": {
   "codemirror_mode": {
    "name": "ipython",
    "version": 3
   },
   "file_extension": ".py",
   "mimetype": "text/x-python",
   "name": "python",
   "nbconvert_exporter": "python",
   "pygments_lexer": "ipython3",
   "version": "3.12.6"
  }
 },
 "nbformat": 4,
 "nbformat_minor": 5
}
