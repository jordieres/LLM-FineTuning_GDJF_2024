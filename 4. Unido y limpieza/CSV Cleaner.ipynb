{
 "cells": [
  {
   "cell_type": "code",
   "execution_count": null,
   "id": "f8a21cdc-f285-4787-99b0-3f9bde3ada3e",
   "metadata": {},
   "outputs": [],
   "source": [
    "# Script para la \"limpieza\" de archivos CSV con filas con algunas celdas vacías\n",
    "# Versión 1.0"
   ]
  },
  {
   "cell_type": "code",
   "execution_count": 4,
   "id": "820a39e7-b7f9-48bd-b24f-7a7c068c3800",
   "metadata": {},
   "outputs": [],
   "source": [
    "import csv\n",
    "\n",
    "# Función para la limpieza de los CSV\n",
    "def clean_csv(input_filename, output_filename):\n",
    "    with open(input_filename, 'r', newline='', encoding='utf-8') as infile, \\\n",
    "         open(output_filename, 'w', newline='', encoding='utf-8') as outfile:\n",
    "        reader = csv.reader(infile)\n",
    "        writer = csv.writer(outfile)\n",
    "        headers = next(reader)  # Read the header row\n",
    "        writer.writerow(headers)  # Write the header row to output\n",
    "        \n",
    "        for row in reader:\n",
    "            if all(cell.strip() for cell in row):  # Check if all cells are non-empty\n",
    "                writer.writerow(row)  # Write rows with no empty cells"
   ]
  },
  {
   "cell_type": "code",
   "execution_count": 5,
   "id": "cd6c228b-c55a-4013-961e-18a400834a5f",
   "metadata": {},
   "outputs": [],
   "source": [
    "# Llamada a la función definida arriba con el nombre del archivo CSV a limpiar seguido por el nombre del archivo output\n",
    "clean_csv('merged_CSVs.csv', 'cleaned_merged.csv')"
   ]
  },
  {
   "cell_type": "code",
   "execution_count": null,
   "id": "ca522a29-52f4-4c44-893f-31bbf203a8a9",
   "metadata": {},
   "outputs": [],
   "source": []
  }
 ],
 "metadata": {
  "kernelspec": {
   "display_name": "Python 3 (ipykernel)",
   "language": "python",
   "name": "python3"
  },
  "language_info": {
   "codemirror_mode": {
    "name": "ipython",
    "version": 3
   },
   "file_extension": ".py",
   "mimetype": "text/x-python",
   "name": "python",
   "nbconvert_exporter": "python",
   "pygments_lexer": "ipython3",
   "version": "3.12.4"
  }
 },
 "nbformat": 4,
 "nbformat_minor": 5
}
