{
 "cells": [
  {
   "cell_type": "code",
   "execution_count": null,
   "id": "1b564daa-78d3-4913-a84e-060606c5adf9",
   "metadata": {},
   "outputs": [],
   "source": [
    "# Script para el unido de archivos CSV\n",
    "# Versión 1.0"
   ]
  },
  {
   "cell_type": "code",
   "execution_count": 2,
   "id": "2704ab83-0a43-496e-a7b9-1006699117e5",
   "metadata": {},
   "outputs": [
    {
     "name": "stdout",
     "output_type": "stream",
     "text": [
      "Merged CSV saved as merged_CSVs.csv\n",
      "Total rows in merged CSV: 19712\n"
     ]
    }
   ],
   "source": [
    "import os\n",
    "import pandas as pd\n",
    "\n",
    "# Función para el unido de los CSVs\n",
    "def merge_csv_files(folder_path, output_file):\n",
    "    csv_files = [f for f in os.listdir(folder_path) if f.endswith('.csv')]\n",
    "    \n",
    "    combined_df = pd.DataFrame()\n",
    "    for csv_file in csv_files:\n",
    "        file_path = os.path.join(folder_path, csv_file)\n",
    "        df = pd.read_csv(file_path)\n",
    "        \n",
    "        # Check for and skip the header in subsequent files\n",
    "        if not combined_df.empty:\n",
    "            df.columns = combined_df.columns\n",
    "        \n",
    "        combined_df = pd.concat([combined_df, df], ignore_index=True)\n",
    "    \n",
    "    combined_df.to_csv(output_file, index=False)\n",
    "    print(f\"Merged CSV saved as {output_file}\")\n",
    "    print(f\"Total rows in merged CSV: {len(combined_df)}\")\n",
    "\n",
    "# Especificar el directorio que contiene los CSVs a unir y el nombre del archivo output\n",
    "folder_path = 'CSVs'\n",
    "output_file = 'merged_CSVs.csv'\n",
    "\n",
    "# Llamada a la función especificada arriba\n",
    "merge_csv_files(folder_path, output_file)\n"
   ]
  },
  {
   "cell_type": "code",
   "execution_count": null,
   "id": "22bce662-3e4c-4071-8a2e-895bcdff4d53",
   "metadata": {},
   "outputs": [],
   "source": []
  }
 ],
 "metadata": {
  "kernelspec": {
   "display_name": "Python 3 (ipykernel)",
   "language": "python",
   "name": "python3"
  },
  "language_info": {
   "codemirror_mode": {
    "name": "ipython",
    "version": 3
   },
   "file_extension": ".py",
   "mimetype": "text/x-python",
   "name": "python",
   "nbconvert_exporter": "python",
   "pygments_lexer": "ipython3",
   "version": "3.12.4"
  }
 },
 "nbformat": 4,
 "nbformat_minor": 5
}
